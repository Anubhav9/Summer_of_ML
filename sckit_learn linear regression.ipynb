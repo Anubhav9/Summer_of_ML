{
 "cells": [
  {
   "cell_type": "code",
   "execution_count": 79,
   "metadata": {},
   "outputs": [],
   "source": [
    "import numpy as np\n",
    "import pandas as pd\n",
    "import matplotlib.pyplot as plt"
   ]
  },
  {
   "cell_type": "code",
   "execution_count": 81,
   "metadata": {},
   "outputs": [],
   "source": [
    "X=pd.read_csv(\"C:/Users/Anubhav Sanyal/Desktop/Summer of ML-Coding Blocks/Single Variable Linear Regression/Linear_X_Train.csv\")\n",
    "y=pd.read_csv(\"C:/Users/Anubhav Sanyal/Desktop/Summer of ML-Coding Blocks/Single Variable Linear Regression/Linear_Y_Train.csv\")\n"
   ]
  },
  {
   "cell_type": "code",
   "execution_count": 82,
   "metadata": {},
   "outputs": [],
   "source": [
    "X=X.values"
   ]
  },
  {
   "cell_type": "code",
   "execution_count": 83,
   "metadata": {},
   "outputs": [],
   "source": [
    "y=y.values"
   ]
  },
  {
   "cell_type": "code",
   "execution_count": 84,
   "metadata": {},
   "outputs": [
    {
     "data": {
      "text/plain": [
       "(3750, 1)"
      ]
     },
     "execution_count": 84,
     "metadata": {},
     "output_type": "execute_result"
    }
   ],
   "source": [
    "X.shape"
   ]
  },
  {
   "cell_type": "code",
   "execution_count": 85,
   "metadata": {},
   "outputs": [],
   "source": [
    "X=X.reshape((3750,))"
   ]
  },
  {
   "cell_type": "code",
   "execution_count": 86,
   "metadata": {},
   "outputs": [
    {
     "data": {
      "text/plain": [
       "(3750,)"
      ]
     },
     "execution_count": 86,
     "metadata": {},
     "output_type": "execute_result"
    }
   ],
   "source": [
    "X.shape"
   ]
  },
  {
   "cell_type": "code",
   "execution_count": 87,
   "metadata": {},
   "outputs": [
    {
     "data": {
      "text/plain": [
       "(3750, 1)"
      ]
     },
     "execution_count": 87,
     "metadata": {},
     "output_type": "execute_result"
    }
   ],
   "source": [
    "y.shape"
   ]
  },
  {
   "cell_type": "code",
   "execution_count": 13,
   "metadata": {},
   "outputs": [],
   "source": [
    "y=y.reshape((3750,))"
   ]
  },
  {
   "cell_type": "code",
   "execution_count": 88,
   "metadata": {},
   "outputs": [],
   "source": [
    "from sklearn.model_selection import train_test_split\n",
    "X_train,X_test,y_train,y_test=train_test_split(X,y,test_size=0.2,random_state=100)"
   ]
  },
  {
   "cell_type": "code",
   "execution_count": 89,
   "metadata": {},
   "outputs": [],
   "source": [
    "X_train=X_train.reshape((-1,1))"
   ]
  },
  {
   "cell_type": "code",
   "execution_count": 90,
   "metadata": {},
   "outputs": [
    {
     "data": {
      "text/plain": [
       "(3000, 1)"
      ]
     },
     "execution_count": 90,
     "metadata": {},
     "output_type": "execute_result"
    }
   ],
   "source": [
    "X_train.shape"
   ]
  },
  {
   "cell_type": "code",
   "execution_count": 91,
   "metadata": {},
   "outputs": [],
   "source": [
    "y_train=y_train.reshape((-1,1))"
   ]
  },
  {
   "cell_type": "code",
   "execution_count": 92,
   "metadata": {},
   "outputs": [
    {
     "data": {
      "text/plain": [
       "(3000, 1)"
      ]
     },
     "execution_count": 92,
     "metadata": {},
     "output_type": "execute_result"
    }
   ],
   "source": [
    "y_train.shape"
   ]
  },
  {
   "cell_type": "code",
   "execution_count": 93,
   "metadata": {},
   "outputs": [
    {
     "data": {
      "text/plain": [
       "<matplotlib.collections.PathCollection at 0x227d8fc34a8>"
      ]
     },
     "execution_count": 93,
     "metadata": {},
     "output_type": "execute_result"
    },
    {
     "data": {
      "image/png": "[encoded data removed]",
      "text/plain": [
       "<Figure size 432x288 with 1 Axes>"
      ]
     },
     "metadata": {},
     "output_type": "display_data"
    }
   ],
   "source": [
    "plt.scatter(X_train,y_train)"
   ]
  },
  {
   "cell_type": "code",
   "execution_count": 94,
   "metadata": {},
   "outputs": [],
   "source": [
    "from sklearn.linear_model import LinearRegression"
   ]
  },
  {
   "cell_type": "code",
   "execution_count": 95,
   "metadata": {},
   "outputs": [],
   "source": [
    "lr=LinearRegression(normalize=True)"
   ]
  },
  {
   "cell_type": "code",
   "execution_count": 96,
   "metadata": {},
   "outputs": [
    {
     "data": {
      "text/plain": [
       "LinearRegression(copy_X=True, fit_intercept=True, n_jobs=1, normalize=True)"
      ]
     },
     "execution_count": 96,
     "metadata": {},
     "output_type": "execute_result"
    }
   ],
   "source": [
    "lr"
   ]
  },
  {
   "cell_type": "code",
   "execution_count": 97,
   "metadata": {},
   "outputs": [
    {
     "data": {
      "text/plain": [
       "LinearRegression(copy_X=True, fit_intercept=True, n_jobs=1, normalize=True)"
      ]
     },
     "execution_count": 97,
     "metadata": {},
     "output_type": "execute_result"
    }
   ],
   "source": [
    "lr.fit(X_train,y_train)"
   ]
  },
  {
   "cell_type": "code",
   "execution_count": 98,
   "metadata": {},
   "outputs": [
    {
     "data": {
      "text/plain": [
       "array([[80.52269887]])"
      ]
     },
     "execution_count": 98,
     "metadata": {},
     "output_type": "execute_result"
    }
   ],
   "source": [
    "lr.coef_\n"
   ]
  },
  {
   "cell_type": "code",
   "execution_count": 99,
   "metadata": {},
   "outputs": [
    {
     "data": {
      "text/plain": [
       "array([3.80613828])"
      ]
     },
     "execution_count": 99,
     "metadata": {},
     "output_type": "execute_result"
    }
   ],
   "source": [
    "lr.intercept_"
   ]
  },
  {
   "cell_type": "code",
   "execution_count": 100,
   "metadata": {},
   "outputs": [
    {
     "data": {
      "text/plain": [
       "0.9701236620433776"
      ]
     },
     "execution_count": 100,
     "metadata": {},
     "output_type": "execute_result"
    }
   ],
   "source": [
    "lr.score(X_train,y_train)"
   ]
  },
  {
   "cell_type": "code",
   "execution_count": 101,
   "metadata": {},
   "outputs": [],
   "source": [
    "X_test=X_test.reshape((-1,1))"
   ]
  },
  {
   "cell_type": "code",
   "execution_count": 102,
   "metadata": {},
   "outputs": [],
   "source": [
    "pred=lr.predict(X_test)"
   ]
  },
  {
   "cell_type": "code",
   "execution_count": 103,
   "metadata": {},
   "outputs": [
    {
     "data": {
      "text/plain": [
       "array([[-3.61363672e+01],\n",
       "       [-6.94370247e+00],\n",
       "       [ 6.29449744e+01],\n",
       "       [ 1.23228712e+02],\n",
       "       [-1.34783885e+02],\n",
       "       [-4.00010746e+01],\n",
       "       [-2.05721303e+02],\n",
       "       [ 3.71890728e+01],\n",
       "       [ 1.09905999e+02],\n",
       "       [-6.41004491e+01],\n",
       "       [ 8.15077863e+01],\n",
       "       [ 1.42252050e+02],\n",
       "       [ 7.51139856e+01],\n",
       "       [-6.85460988e+01],\n",
       "       [ 2.29618808e+00],\n",
       "       [-9.16170064e+01],\n",
       "       [ 8.95791271e+00],\n",
       "       [-3.63753073e+01],\n",
       "       [-5.88155655e+01],\n",
       "       [-4.99151890e+00],\n",
       "       [ 1.99866752e+01],\n",
       "       [ 1.12368718e+02],\n",
       "       [-3.03963699e+01],\n",
       "       [ 1.05638760e+02],\n",
       "       [-1.91373869e+01],\n",
       "       [-1.11225829e+02],\n",
       "       [ 1.77586148e+02],\n",
       "       [ 1.49194508e+01],\n",
       "       [ 1.85177659e+02],\n",
       "       [-1.11758159e+02],\n",
       "       [-5.73238506e+01],\n",
       "       [ 3.99912809e+01],\n",
       "       [-1.94475816e+01],\n",
       "       [ 7.11931132e+01],\n",
       "       [-5.56104124e+01],\n",
       "       [-1.61981684e+02],\n",
       "       [ 3.51223629e+01],\n",
       "       [ 1.26923727e+01],\n",
       "       [ 8.31552918e+01],\n",
       "       [-1.01245375e+02],\n",
       "       [ 4.66042539e+00],\n",
       "       [-7.19373884e+01],\n",
       "       [-6.26016485e+01],\n",
       "       [ 1.14588702e+02],\n",
       "       [ 2.13748656e+01],\n",
       "       [ 1.26402070e+02],\n",
       "       [-7.52126432e+01],\n",
       "       [ 2.29650122e+01],\n",
       "       [ 9.75354999e+01],\n",
       "       [-3.65436542e+01],\n",
       "       [ 9.16670312e+01],\n",
       "       [ 9.57254642e+01],\n",
       "       [-2.62242648e+01],\n",
       "       [ 6.55622699e+01],\n",
       "       [-3.86286879e+01],\n",
       "       [ 2.93456093e+01],\n",
       "       [ 5.18201169e+01],\n",
       "       [ 1.76457600e+01],\n",
       "       [ 2.14191387e+01],\n",
       "       [ 2.43162069e+00],\n",
       "       [ 4.39471956e+01],\n",
       "       [-3.46836927e+01],\n",
       "       [-2.82812381e+01],\n",
       "       [-3.83049486e+01],\n",
       "       [-5.68206824e+01],\n",
       "       [-3.26071948e+01],\n",
       "       [ 1.54667988e+02],\n",
       "       [-1.20720389e+02],\n",
       "       [ 4.26970499e+01],\n",
       "       [-1.29518812e+01],\n",
       "       [-2.19281224e+01],\n",
       "       [ 5.43064026e+01],\n",
       "       [ 1.65222123e+01],\n",
       "       [ 6.74331204e+00],\n",
       "       [-1.28970744e+02],\n",
       "       [-7.49328457e+00],\n",
       "       [-6.23004071e+01],\n",
       "       [-1.22064608e+01],\n",
       "       [ 9.15283353e+01],\n",
       "       [-7.02881387e+01],\n",
       "       [ 5.33241751e+00],\n",
       "       [ 1.30138833e+01],\n",
       "       [ 7.15225258e+01],\n",
       "       [-6.20631766e+01],\n",
       "       [ 8.27506098e+00],\n",
       "       [ 7.28629100e+00],\n",
       "       [ 2.80843531e-01],\n",
       "       [ 1.78789591e+00],\n",
       "       [ 2.28671710e+01],\n",
       "       [-9.27958171e+01],\n",
       "       [ 5.16104233e+01],\n",
       "       [ 5.17027401e+01],\n",
       "       [ 6.47251533e+01],\n",
       "       [-1.11858632e+02],\n",
       "       [ 3.14748327e+01],\n",
       "       [ 3.79690275e+00],\n",
       "       [ 1.56307437e+02],\n",
       "       [ 6.40101158e+01],\n",
       "       [ 4.06789683e+01],\n",
       "       [-7.59566440e+01],\n",
       "       [-5.24253816e+01],\n",
       "       [-7.35840838e+01],\n",
       "       [ 6.00428354e+01],\n",
       "       [ 1.25028673e+02],\n",
       "       [-6.60038320e+01],\n",
       "       [-1.90353067e+01],\n",
       "       [ 5.84868162e+01],\n",
       "       [-3.43979725e+01],\n",
       "       [-1.08765277e+02],\n",
       "       [ 3.88197390e+01],\n",
       "       [-7.83078894e+01],\n",
       "       [-1.85206885e+02],\n",
       "       [-3.52721092e+01],\n",
       "       [ 1.32793836e+02],\n",
       "       [-1.95671768e+02],\n",
       "       [-5.67617083e+01],\n",
       "       [-1.68556824e+02],\n",
       "       [ 2.08714482e+01],\n",
       "       [ 8.78146189e+01],\n",
       "       [ 4.92600357e+01],\n",
       "       [ 9.20082388e+01],\n",
       "       [-2.59798224e+01],\n",
       "       [ 8.08682962e+01],\n",
       "       [ 1.48266396e+02],\n",
       "       [ 5.08032929e-01],\n",
       "       [-2.63079686e+01],\n",
       "       [ 1.35739982e+01],\n",
       "       [-4.29522247e+01],\n",
       "       [-1.31087895e+02],\n",
       "       [-3.80471278e+01],\n",
       "       [ 1.12447135e+02],\n",
       "       [ 7.94756052e+01],\n",
       "       [-2.59210501e+01],\n",
       "       [ 5.71923404e+01],\n",
       "       [-8.13926931e+01],\n",
       "       [ 1.46144726e+02],\n",
       "       [ 1.75675866e+02],\n",
       "       [-2.67403314e+01],\n",
       "       [ 5.24591324e+01],\n",
       "       [-8.08914014e+00],\n",
       "       [-2.43077371e+01],\n",
       "       [-5.35944512e+01],\n",
       "       [ 8.68247260e+00],\n",
       "       [-3.21751813e+01],\n",
       "       [ 7.16999623e+01],\n",
       "       [-5.73507880e+01],\n",
       "       [-6.22025686e+01],\n",
       "       [-6.80556441e+01],\n",
       "       [-1.15189359e+02],\n",
       "       [-6.56759952e+01],\n",
       "       [ 2.63142595e+01],\n",
       "       [ 4.25550996e+01],\n",
       "       [-8.14113783e+00],\n",
       "       [ 6.97117453e+01],\n",
       "       [ 2.28421549e+01],\n",
       "       [-3.98579419e+01],\n",
       "       [ 9.73592406e-01],\n",
       "       [ 9.99135244e+01],\n",
       "       [-6.61035935e+00],\n",
       "       [ 1.15096842e+02],\n",
       "       [-5.39954661e+01],\n",
       "       [-6.81595176e+00],\n",
       "       [ 7.58053249e+01],\n",
       "       [-4.12276229e+01],\n",
       "       [-4.41009952e+01],\n",
       "       [-5.63819951e+01],\n",
       "       [ 8.46047340e+01],\n",
       "       [-4.55047078e+01],\n",
       "       [ 8.74653668e+01],\n",
       "       [-5.34405655e+01],\n",
       "       [ 4.41502410e+01],\n",
       "       [ 5.48296433e+00],\n",
       "       [-4.02392572e+01],\n",
       "       [-1.47129939e+01],\n",
       "       [ 3.66245103e+01],\n",
       "       [ 1.14743055e+01],\n",
       "       [-4.82076002e+01],\n",
       "       [-1.02715815e+02],\n",
       "       [ 9.22023054e+01],\n",
       "       [-6.55755410e+01],\n",
       "       [-5.02544838e+01],\n",
       "       [-4.57210969e+01],\n",
       "       [-2.66614739e+01],\n",
       "       [-2.00205795e+01],\n",
       "       [-3.60629531e+01],\n",
       "       [ 2.09611973e+02],\n",
       "       [-6.96500257e+01],\n",
       "       [ 8.97412147e+01],\n",
       "       [-7.30765066e+01],\n",
       "       [-8.02206734e+01],\n",
       "       [-9.60718450e+01],\n",
       "       [-8.82894299e+01],\n",
       "       [-3.35635414e+01],\n",
       "       [-2.77153622e+01],\n",
       "       [-1.48733161e+01],\n",
       "       [-1.16365704e+02],\n",
       "       [ 2.06072465e+02],\n",
       "       [-8.22974114e+01],\n",
       "       [-6.12759899e+01],\n",
       "       [-1.33125264e+02],\n",
       "       [ 1.53407968e+01],\n",
       "       [-1.61572482e+02],\n",
       "       [ 4.58119589e+01],\n",
       "       [ 5.63065946e+01],\n",
       "       [-1.03424643e+02],\n",
       "       [ 1.43002793e+02],\n",
       "       [ 5.55953814e+01],\n",
       "       [-1.90628739e+01],\n",
       "       [ 1.24863851e+02],\n",
       "       [-1.34573855e+02],\n",
       "       [-5.53709631e+01],\n",
       "       [ 2.10947915e+00],\n",
       "       [-1.02847024e+02],\n",
       "       [ 1.63924694e+02],\n",
       "       [ 6.08027136e+01],\n",
       "       [ 1.05722201e+02],\n",
       "       [-1.18900888e+01],\n",
       "       [ 2.89994315e+01],\n",
       "       [ 1.40562835e+01],\n",
       "       [ 2.06507641e+01],\n",
       "       [ 2.81082889e+01],\n",
       "       [-1.03752102e+02],\n",
       "       [-1.07178038e+02],\n",
       "       [-4.97927727e+01],\n",
       "       [-5.70710093e+01],\n",
       "       [-4.30264530e+01],\n",
       "       [ 6.48716276e+01],\n",
       "       [-6.13054886e+00],\n",
       "       [ 8.32808791e+01],\n",
       "       [-1.18051663e+02],\n",
       "       [ 5.61808639e+00],\n",
       "       [ 2.54421512e+01],\n",
       "       [ 5.32098753e+01],\n",
       "       [ 2.47169471e+01],\n",
       "       [-7.89824592e+01],\n",
       "       [-5.72901284e+01],\n",
       "       [ 4.27620817e+01],\n",
       "       [ 1.78976604e+01],\n",
       "       [ 2.13415035e+01],\n",
       "       [-7.29849870e+01],\n",
       "       [ 5.75908241e+01],\n",
       "       [ 5.38940128e+01],\n",
       "       [-5.72392026e+01],\n",
       "       [ 6.51986432e+01],\n",
       "       [ 4.02859636e+01],\n",
       "       [-1.11854232e+01],\n",
       "       [-6.23416167e+00],\n",
       "       [-4.10703520e+01],\n",
       "       [-1.40224581e+02],\n",
       "       [-8.82785591e+01],\n",
       "       [-2.76811472e+01],\n",
       "       [-2.35776627e+01],\n",
       "       [-8.62424510e+01],\n",
       "       [-9.39965177e+00],\n",
       "       [-5.82562228e+01],\n",
       "       [-1.53677509e+02],\n",
       "       [ 1.43649689e+02],\n",
       "       [-9.40918871e+01],\n",
       "       [ 1.44990021e+02],\n",
       "       [-8.72515838e+01],\n",
       "       [ 1.04106422e+02],\n",
       "       [ 1.34207077e+02],\n",
       "       [ 1.57546260e+02],\n",
       "       [-6.05467762e+01],\n",
       "       [-6.80528283e+01],\n",
       "       [-4.53114005e+01],\n",
       "       [ 6.87329591e+01],\n",
       "       [-1.19782053e+02],\n",
       "       [-2.14171030e+01],\n",
       "       [ 1.40230038e+00],\n",
       "       [-5.78526700e+01],\n",
       "       [ 4.52400545e+01],\n",
       "       [-1.40716568e+02],\n",
       "       [-7.95999231e+01],\n",
       "       [ 4.09343242e+01],\n",
       "       [ 6.25641714e+01],\n",
       "       [ 2.30635125e+00],\n",
       "       [-9.15372231e+01],\n",
       "       [ 1.59751234e+02],\n",
       "       [-8.40657012e+01],\n",
       "       [-1.65217301e+02],\n",
       "       [ 1.12908605e+02],\n",
       "       [ 4.82639651e+01],\n",
       "       [ 1.51272356e+02],\n",
       "       [ 5.82850872e+01],\n",
       "       [-1.99662784e+01],\n",
       "       [-5.17513576e+01],\n",
       "       [ 1.33033011e+02],\n",
       "       [-1.17958979e+02],\n",
       "       [-7.52723822e+01],\n",
       "       [ 2.36724222e+01],\n",
       "       [ 1.86698986e+01],\n",
       "       [ 5.21551770e+01],\n",
       "       [-4.84073582e+01],\n",
       "       [-4.45659701e+01],\n",
       "       [-5.36059985e+01],\n",
       "       [-3.55699480e+01],\n",
       "       [ 1.86037167e+01],\n",
       "       [-2.11714586e+02],\n",
       "       [-3.08902919e+01],\n",
       "       [-9.23776503e+01],\n",
       "       [ 1.04014333e+02],\n",
       "       [-3.30137344e+01],\n",
       "       [-1.46247324e+02],\n",
       "       [ 1.34191591e+02],\n",
       "       [-2.77420779e+01],\n",
       "       [-9.34777473e-01],\n",
       "       [-1.07201850e+02],\n",
       "       [ 6.60153713e+01],\n",
       "       [-3.86188312e+01],\n",
       "       [ 6.63416269e+01],\n",
       "       [ 6.27057335e+01],\n",
       "       [-1.11272418e+02],\n",
       "       [ 3.43783133e+01],\n",
       "       [-1.07751754e+02],\n",
       "       [-2.02130572e+01],\n",
       "       [-1.45556230e+02],\n",
       "       [ 2.34561166e+01],\n",
       "       [-7.62016130e+01],\n",
       "       [-5.14143143e+00],\n",
       "       [-6.09332179e+01],\n",
       "       [ 9.19505585e+01],\n",
       "       [ 1.13826421e+02],\n",
       "       [ 4.70701388e+01],\n",
       "       [-1.99842125e+00],\n",
       "       [ 1.38565838e+02],\n",
       "       [-3.27225969e+01],\n",
       "       [ 2.95724071e+02],\n",
       "       [ 1.07727393e+02],\n",
       "       [-9.85239973e+01],\n",
       "       [-1.06504449e+02],\n",
       "       [-1.18203116e+02],\n",
       "       [ 9.86797618e+01],\n",
       "       [ 2.82137959e+01],\n",
       "       [-8.65876747e+01],\n",
       "       [-1.45272535e+02],\n",
       "       [ 9.78308669e+01],\n",
       "       [-3.52605808e+01],\n",
       "       [ 6.39621069e+00],\n",
       "       [ 2.66441757e+01],\n",
       "       [ 1.10083022e+02],\n",
       "       [-5.84542035e+01],\n",
       "       [-1.00986666e+02],\n",
       "       [-1.93349016e+02],\n",
       "       [ 9.80680423e+01],\n",
       "       [ 2.43321426e+01],\n",
       "       [ 2.80459673e+01],\n",
       "       [-2.51357986e+01],\n",
       "       [ 1.47266868e+02],\n",
       "       [-8.84613569e+01],\n",
       "       [-8.79717906e+00],\n",
       "       [-1.63804919e+02],\n",
       "       [ 1.02719797e+02],\n",
       "       [ 8.39863477e+01],\n",
       "       [-5.47531833e+00],\n",
       "       [-1.14183140e+02],\n",
       "       [-9.56129179e+01],\n",
       "       [-4.80858581e+01],\n",
       "       [ 2.60533249e+01],\n",
       "       [-1.00493445e+02],\n",
       "       [-3.29550951e+01],\n",
       "       [-4.19617920e+01],\n",
       "       [-6.18191614e+00],\n",
       "       [ 2.32073574e+01],\n",
       "       [ 1.05338878e+02],\n",
       "       [ 1.35114226e+02],\n",
       "       [ 6.36547063e-01],\n",
       "       [-3.79007578e+01],\n",
       "       [ 3.11034122e+01],\n",
       "       [ 1.44021946e+01],\n",
       "       [-6.02465375e+01],\n",
       "       [ 9.54678777e+01],\n",
       "       [ 1.80524580e+01],\n",
       "       [-3.57914817e+01],\n",
       "       [ 3.54616469e+01],\n",
       "       [-4.87067032e+00],\n",
       "       [ 4.51531958e+01],\n",
       "       [ 1.59604966e+02],\n",
       "       [-4.87561987e+01],\n",
       "       [-4.14479803e+01],\n",
       "       [ 1.08314747e+02],\n",
       "       [-1.46876894e+02],\n",
       "       [ 2.34902140e+01],\n",
       "       [ 1.02317974e+02],\n",
       "       [ 6.57879933e+01],\n",
       "       [ 2.04603935e+01],\n",
       "       [-3.47130752e+01],\n",
       "       [-1.28048502e+02],\n",
       "       [ 5.55834580e+01],\n",
       "       [-7.38792199e+01],\n",
       "       [ 2.00227494e+01],\n",
       "       [ 6.38000797e+01],\n",
       "       [-8.80507486e+01],\n",
       "       [ 1.48824041e+00],\n",
       "       [ 2.00112807e+01],\n",
       "       [-2.29007069e+01],\n",
       "       [ 1.70777946e+02],\n",
       "       [ 5.30837183e+01],\n",
       "       [-4.74966111e+01],\n",
       "       [-1.44004701e+02],\n",
       "       [-6.93799427e+01],\n",
       "       [ 6.61045856e+01],\n",
       "       [-2.46422366e+01],\n",
       "       [-4.46604228e+01],\n",
       "       [ 1.26121192e+02],\n",
       "       [ 1.09255693e+01],\n",
       "       [-1.31564069e+01],\n",
       "       [ 6.65514754e+01],\n",
       "       [-1.08629699e+02],\n",
       "       [ 4.63941472e+01],\n",
       "       [ 3.83349977e+01],\n",
       "       [ 2.60538491e+01],\n",
       "       [ 1.75334348e+00],\n",
       "       [-2.60799407e+01],\n",
       "       [ 1.74113858e+01],\n",
       "       [-8.17951061e+01],\n",
       "       [-2.49691677e+00],\n",
       "       [ 3.20319806e+01],\n",
       "       [-3.51915588e+01],\n",
       "       [-1.00716080e+02],\n",
       "       [ 1.15410076e+02],\n",
       "       [ 4.27437533e+01],\n",
       "       [-4.21371202e+01],\n",
       "       [-5.74767656e+01],\n",
       "       [-1.32749163e+02],\n",
       "       [ 7.71790424e+01],\n",
       "       [-8.21533974e+01],\n",
       "       [-1.75736363e+02],\n",
       "       [-6.60793428e+01],\n",
       "       [ 7.29803549e+01],\n",
       "       [-3.64090553e+01],\n",
       "       [ 2.27959167e+01],\n",
       "       [-2.86150176e+01],\n",
       "       [ 1.07317186e+02],\n",
       "       [-4.67823122e+01],\n",
       "       [ 7.42846447e+01],\n",
       "       [-4.90336025e+01],\n",
       "       [-2.56816130e+01],\n",
       "       [ 1.03420400e+02],\n",
       "       [-2.40632131e+02],\n",
       "       [-9.72238022e+01],\n",
       "       [-1.08773936e+02],\n",
       "       [ 1.62312330e+02],\n",
       "       [ 1.79058872e+01],\n",
       "       [-4.24709348e+01],\n",
       "       [ 5.92222512e+01],\n",
       "       [ 1.33927305e+01],\n",
       "       [-1.89450586e+01],\n",
       "       [ 1.50413009e+02],\n",
       "       [ 9.30403866e+01],\n",
       "       [-1.54586681e+02],\n",
       "       [ 3.23891100e+00],\n",
       "       [ 3.94653763e+01],\n",
       "       [ 3.70137930e+01],\n",
       "       [ 3.50298423e+01],\n",
       "       [ 4.17983668e+01],\n",
       "       [-6.36260575e+01],\n",
       "       [-7.69024724e+01],\n",
       "       [ 3.57156718e+01],\n",
       "       [ 5.36101144e+00],\n",
       "       [-4.63095570e+01],\n",
       "       [ 1.00921208e+02],\n",
       "       [-1.09569352e+02],\n",
       "       [-1.70093736e+02],\n",
       "       [-6.59437935e+01],\n",
       "       [ 5.79393458e+01],\n",
       "       [-1.52315278e+02],\n",
       "       [-1.99541521e+01],\n",
       "       [-7.72657878e+01],\n",
       "       [ 3.25322367e+01],\n",
       "       [-5.68544124e+01],\n",
       "       [-1.53376055e+02],\n",
       "       [-9.42920636e+01],\n",
       "       [ 6.46198320e+01],\n",
       "       [ 5.13833956e+01],\n",
       "       [ 2.38750936e+01],\n",
       "       [-9.75434818e+01],\n",
       "       [-3.58789853e+01],\n",
       "       [ 7.86081802e+01],\n",
       "       [-1.01216495e+02],\n",
       "       [ 2.51346810e+01],\n",
       "       [-7.63779018e+01],\n",
       "       [-1.16500683e+02],\n",
       "       [ 4.84593569e+01],\n",
       "       [-5.81835842e+00],\n",
       "       [ 1.01871393e+02],\n",
       "       [-1.64529787e+02],\n",
       "       [ 8.93689050e-03],\n",
       "       [-5.12148920e+01],\n",
       "       [ 3.14608093e+01],\n",
       "       [ 2.29365607e+00],\n",
       "       [ 7.73375961e+01],\n",
       "       [-2.31365055e+01],\n",
       "       [-4.87348777e+01],\n",
       "       [-6.21578120e+01],\n",
       "       [ 3.57109620e+01],\n",
       "       [-8.06991376e+01],\n",
       "       [-1.52345863e+02],\n",
       "       [ 8.59497143e+01],\n",
       "       [ 9.22731914e+01],\n",
       "       [ 4.51217721e+01],\n",
       "       [ 2.78672392e+01],\n",
       "       [-1.86497057e+01],\n",
       "       [-4.29213580e+01],\n",
       "       [ 9.08318140e+01],\n",
       "       [ 6.57945398e+00],\n",
       "       [ 1.31280198e+01],\n",
       "       [-2.36357252e+01],\n",
       "       [-1.08273554e+02],\n",
       "       [ 7.76865903e+01],\n",
       "       [ 1.38199848e+01],\n",
       "       [ 4.81640018e+01],\n",
       "       [-3.58151545e+01],\n",
       "       [-5.04910376e+01],\n",
       "       [ 1.02738913e+02],\n",
       "       [-9.69740581e+00],\n",
       "       [-5.24373333e+01],\n",
       "       [ 1.09717275e+01],\n",
       "       [-1.33257944e+01],\n",
       "       [ 1.45925451e+02],\n",
       "       [ 8.27447405e+01],\n",
       "       [-2.77424502e+01],\n",
       "       [ 8.28217806e+00],\n",
       "       [-7.73648791e+00],\n",
       "       [ 6.85786736e+00],\n",
       "       [ 4.36728099e-01],\n",
       "       [ 4.63969927e+01],\n",
       "       [ 6.57252881e+01],\n",
       "       [-1.98681833e+01],\n",
       "       [ 4.18532125e+01],\n",
       "       [ 6.65528867e+01],\n",
       "       [-1.48470920e+02],\n",
       "       [-8.93131880e+00],\n",
       "       [ 3.81518021e+01],\n",
       "       [ 5.75138000e+01],\n",
       "       [-1.39867238e+02],\n",
       "       [-9.06616687e+01],\n",
       "       [ 1.54318281e+02],\n",
       "       [-1.31174205e+02],\n",
       "       [-3.94879944e+01],\n",
       "       [ 4.95577455e+01],\n",
       "       [-5.45908908e+01],\n",
       "       [-1.01228876e+02],\n",
       "       [ 9.96992386e+01],\n",
       "       [ 9.69696403e+01],\n",
       "       [-1.02647264e+02],\n",
       "       [-3.06908796e+01],\n",
       "       [ 1.55835591e+02],\n",
       "       [ 5.88813776e+01],\n",
       "       [-2.59088826e+01],\n",
       "       [ 1.25446059e+02],\n",
       "       [-5.28780596e+01],\n",
       "       [-5.39785502e+01],\n",
       "       [-1.08715206e+02],\n",
       "       [ 1.23474815e+02],\n",
       "       [ 3.72373260e+01],\n",
       "       [ 3.95755865e+01],\n",
       "       [-9.82737418e+01],\n",
       "       [ 6.97245592e+01],\n",
       "       [-3.47040213e+01],\n",
       "       [ 3.55234681e+01],\n",
       "       [-2.15320094e+01],\n",
       "       [-1.25682088e+01],\n",
       "       [-4.90899672e+01],\n",
       "       [ 1.85854270e+02],\n",
       "       [ 6.90192170e+01],\n",
       "       [-3.32720497e+01],\n",
       "       [ 3.00776570e+01],\n",
       "       [ 2.63103312e+01],\n",
       "       [-4.40194324e+01],\n",
       "       [-7.73413998e+01],\n",
       "       [-4.26465963e+01],\n",
       "       [ 5.01667150e+01],\n",
       "       [ 5.49632757e+01],\n",
       "       [ 3.57685710e+01],\n",
       "       [-3.86902236e+01],\n",
       "       [ 6.54095729e+01],\n",
       "       [ 1.37210613e+01],\n",
       "       [-2.55920160e+01],\n",
       "       [-8.89251597e+01],\n",
       "       [ 7.27473468e+01],\n",
       "       [-3.84646138e+00],\n",
       "       [ 1.12496452e+02],\n",
       "       [-7.75229167e+01],\n",
       "       [ 1.28388574e+02],\n",
       "       [ 9.01010206e+01],\n",
       "       [-3.02382732e+01],\n",
       "       [-8.84236563e+01],\n",
       "       [ 1.51248944e+01],\n",
       "       [ 1.03964050e+02],\n",
       "       [ 3.29894360e+00],\n",
       "       [-1.00434902e+02],\n",
       "       [ 1.80005812e+01],\n",
       "       [-5.11639004e+01],\n",
       "       [-2.50995899e+01],\n",
       "       [-1.96614109e+02],\n",
       "       [-5.92214476e+01],\n",
       "       [ 3.23632029e+01],\n",
       "       [ 1.53427495e+01],\n",
       "       [-2.74635129e+01],\n",
       "       [-3.07459926e+01],\n",
       "       [-1.11412892e+02],\n",
       "       [ 6.37080228e+01],\n",
       "       [-4.31346944e+01],\n",
       "       [-1.50954064e+02],\n",
       "       [ 1.47524242e+01],\n",
       "       [ 5.41525504e+01],\n",
       "       [ 2.77272354e+01],\n",
       "       [ 1.05020806e+02],\n",
       "       [-6.99451405e+01],\n",
       "       [ 4.55399847e+01],\n",
       "       [-1.05689709e+02],\n",
       "       [-3.84377821e+01],\n",
       "       [ 9.16904046e+01],\n",
       "       [-1.70028669e+02],\n",
       "       [ 1.44932264e+02],\n",
       "       [-1.97298090e+01],\n",
       "       [-9.91576669e-01],\n",
       "       [ 7.94574437e+01],\n",
       "       [-2.88366323e+01],\n",
       "       [-7.40412577e+01],\n",
       "       [ 4.24168810e+01],\n",
       "       [-8.14595999e+01],\n",
       "       [ 1.50070796e+01],\n",
       "       [ 1.58730732e+01],\n",
       "       [-6.75125142e+01],\n",
       "       [-9.04330203e+01],\n",
       "       [-6.43988774e+01],\n",
       "       [ 1.34123167e+02],\n",
       "       [-1.27835160e+02],\n",
       "       [ 1.24408975e+02],\n",
       "       [ 1.98490972e+01],\n",
       "       [ 1.03520064e+02],\n",
       "       [ 7.92263209e+01],\n",
       "       [-8.78205387e+01],\n",
       "       [-5.67115806e+01],\n",
       "       [-1.60863383e+01],\n",
       "       [-8.14589886e+01],\n",
       "       [-7.98057244e+01],\n",
       "       [ 7.99217240e+01],\n",
       "       [ 4.41914672e+01],\n",
       "       [-6.19205195e+01],\n",
       "       [-1.87368112e+01],\n",
       "       [-1.39534780e+02],\n",
       "       [ 1.32152239e+02],\n",
       "       [-9.89926107e+01],\n",
       "       [-7.62162047e+01],\n",
       "       [-1.15903582e+02],\n",
       "       [-3.20729027e-01],\n",
       "       [ 2.04881498e+01],\n",
       "       [-2.45501171e+01],\n",
       "       [ 5.91900872e+01],\n",
       "       [-7.08144378e+01],\n",
       "       [-1.43849857e+02],\n",
       "       [-2.37980530e+01],\n",
       "       [ 5.86522092e+01],\n",
       "       [-1.22135642e+02],\n",
       "       [ 1.27532163e+01],\n",
       "       [ 2.82448700e+01],\n",
       "       [-7.86871354e+01],\n",
       "       [-1.16692218e+02],\n",
       "       [ 5.42111100e+01],\n",
       "       [ 1.80073320e+02],\n",
       "       [ 1.39338247e+02],\n",
       "       [-3.62429161e+01],\n",
       "       [ 9.15398290e+01],\n",
       "       [-1.47553869e+02],\n",
       "       [-2.79506369e+01],\n",
       "       [ 6.06900553e+01],\n",
       "       [-1.86164200e+02],\n",
       "       [ 1.24661881e+02],\n",
       "       [ 1.49847302e+02],\n",
       "       [ 7.59831213e+01],\n",
       "       [-1.78510302e+01],\n",
       "       [-1.59311481e+02],\n",
       "       [-1.26397454e+02],\n",
       "       [ 9.10895200e+01],\n",
       "       [ 5.16268822e+01],\n",
       "       [-7.34786285e-01],\n",
       "       [ 8.40875611e+01],\n",
       "       [-1.31467823e+02],\n",
       "       [ 8.26195108e+01],\n",
       "       [-1.13946931e+02],\n",
       "       [-1.25109879e+02],\n",
       "       [-3.79071996e+01],\n",
       "       [ 5.35126747e+00],\n",
       "       [-4.32794606e+01],\n",
       "       [ 1.33589303e+01],\n",
       "       [ 1.51187325e+01],\n",
       "       [ 1.00166880e+02],\n",
       "       [-5.42439801e+01],\n",
       "       [-3.73513477e+01],\n",
       "       [-4.56478223e+01],\n",
       "       [ 1.99122623e+01],\n",
       "       [ 6.95242319e+00],\n",
       "       [-1.78169337e+02],\n",
       "       [-1.81552632e+01],\n",
       "       [ 6.15406627e+01],\n",
       "       [-4.95288638e+01],\n",
       "       [ 5.74273172e+01],\n",
       "       [-4.56540281e+01],\n",
       "       [-6.23642100e+00],\n",
       "       [ 3.08009462e+01],\n",
       "       [-2.04385012e+01],\n",
       "       [-6.22090602e+01],\n",
       "       [ 2.14854027e+01],\n",
       "       [ 4.22104994e+01],\n",
       "       [ 8.05259091e+01],\n",
       "       [ 1.61217391e+01],\n",
       "       [-2.25732080e+02],\n",
       "       [-2.81751456e+02],\n",
       "       [ 6.81262874e+01],\n",
       "       [ 9.66480511e+01],\n",
       "       [-1.78223134e+01],\n",
       "       [ 1.93766753e+02],\n",
       "       [ 6.39478601e+01],\n",
       "       [-3.46207455e+01],\n",
       "       [ 1.68966510e+02],\n",
       "       [-1.12318572e+01],\n",
       "       [-1.18090094e+01],\n",
       "       [-1.14363878e+01],\n",
       "       [-1.81657171e+01],\n",
       "       [-7.61673939e+01],\n",
       "       [ 5.61654572e+01],\n",
       "       [-6.70890133e+01],\n",
       "       [ 9.36512782e+01],\n",
       "       [ 7.51105981e+01],\n",
       "       [ 1.20171802e+02],\n",
       "       [-4.09097106e+01],\n",
       "       [ 2.42567303e+01],\n",
       "       [-3.49814978e+01],\n",
       "       [-3.77771819e+01],\n",
       "       [ 4.90719648e+01],\n",
       "       [-2.39081837e+01],\n",
       "       [-7.82222548e-01],\n",
       "       [-2.89277485e+01],\n",
       "       [-1.69216399e+02],\n",
       "       [-1.08320350e+02],\n",
       "       [-8.40961424e+01],\n",
       "       [-3.85336347e+01],\n",
       "       [ 3.49323755e+01],\n",
       "       [ 8.39998482e+01],\n",
       "       [-3.44516144e+00],\n",
       "       [ 7.12268383e+01],\n",
       "       [-7.71603083e+01],\n",
       "       [ 3.84795312e+00],\n",
       "       [-1.17253882e+01],\n",
       "       [ 5.85392481e+01],\n",
       "       [-1.14371723e+02],\n",
       "       [ 2.99728049e+01]])"
      ]
     },
     "execution_count": 103,
     "metadata": {},
     "output_type": "execute_result"
    }
   ],
   "source": [
    "pred"
   ]
  },
  {
   "cell_type": "code",
   "execution_count": 104,
   "metadata": {},
   "outputs": [
    {
     "data": {
      "text/plain": [
       "0.9739629675841008"
      ]
     },
     "execution_count": 104,
     "metadata": {},
     "output_type": "execute_result"
    }
   ],
   "source": [
    "lr.score(X_test,y_test)"
   ]
  },
  {
   "cell_type": "code",
   "execution_count": 105,
   "metadata": {},
   "outputs": [],
   "source": [
    "pred=pred.reshape((750,))"
   ]
  },
  {
   "cell_type": "code",
   "execution_count": 45,
   "metadata": {},
   "outputs": [
    {
     "data": {
      "text/plain": [
       "(750, 1)"
      ]
     },
     "execution_count": 45,
     "metadata": {},
     "output_type": "execute_result"
    }
   ],
   "source": [
    "pred.shape"
   ]
  },
  {
   "cell_type": "code",
   "execution_count": 50,
   "metadata": {},
   "outputs": [],
   "source": [
    "test=pd.read_csv(\"C:/Users/Anubhav Sanyal/Desktop/Summer of ML-Coding Blocks/Single Variable Linear Regression/Linear_X_Test1.csv\")"
   ]
  },
  {
   "cell_type": "raw",
   "metadata": {},
   "source": [
    " plt.plot(test)"
   ]
  },
  {
   "cell_type": "code",
   "execution_count": 69,
   "metadata": {},
   "outputs": [
    {
     "data": {
      "text/plain": [
       "[<matplotlib.lines.Line2D at 0x227d8e15048>]"
      ]
     },
     "execution_count": 69,
     "metadata": {},
     "output_type": "execute_result"
    },
    {
     "data": {
      "image/png": "[encoded data removed]",
      "text/plain": [
       "<Figure size 432x288 with 1 Axes>"
      ]
     },
     "metadata": {},
     "output_type": "display_data"
    }
   ],
   "source": [
    "plt.plot(test)"
   ]
  },
  {
   "cell_type": "code",
   "execution_count": 106,
   "metadata": {},
   "outputs": [],
   "source": [
    "pred1=lr.predict(test)"
   ]
  },
  {
   "cell_type": "code",
   "execution_count": 107,
   "metadata": {},
   "outputs": [
    {
     "data": {
      "text/plain": [
       "array([[-147.41101426],\n",
       "       [ -66.17065699],\n",
       "       [-199.93097917],\n",
       "       ...,\n",
       "       [  14.11367352],\n",
       "       [ -18.58219883],\n",
       "       [ -50.98355359]])"
      ]
     },
     "execution_count": 107,
     "metadata": {},
     "output_type": "execute_result"
    }
   ],
   "source": [
    "pred1"
   ]
  },
  {
   "cell_type": "code",
   "execution_count": 108,
   "metadata": {},
   "outputs": [
    {
     "data": {
      "text/plain": [
       "(1250, 1)"
      ]
     },
     "execution_count": 108,
     "metadata": {},
     "output_type": "execute_result"
    }
   ],
   "source": [
    "pred1.shape"
   ]
  },
  {
   "cell_type": "code",
   "execution_count": 109,
   "metadata": {},
   "outputs": [],
   "source": [
    "pred1=pred1.reshape((1250,))"
   ]
  },
  {
   "cell_type": "code",
   "execution_count": 111,
   "metadata": {},
   "outputs": [],
   "source": [
    "import csv\n",
    "with open('C:/Users\\Anubhav Sanyal/Desktop/Summer of ML-Coding Blocks/Single Variable Linear Regression/hardwork.csv', 'w') as csvFile:\n",
    "    writer = csv.writer(csvFile)\n",
    "    writer.writerows([pred1])"
   ]
  },
  {
   "cell_type": "code",
   "execution_count": null,
   "metadata": {},
   "outputs": [],
   "source": []
  },
  {
   "cell_type": "code",
   "execution_count": 112,
   "metadata": {},
   "outputs": [],
   "source": [
    "X_train1=np.linspace(-3,4,10)"
   ]
  },
  {
   "cell_type": "code",
   "execution_count": 113,
   "metadata": {},
   "outputs": [
    {
     "data": {
      "text/plain": [
       "array([-3.        , -2.22222222, -1.44444444, -0.66666667,  0.11111111,\n",
       "        0.88888889,  1.66666667,  2.44444444,  3.22222222,  4.        ])"
      ]
     },
     "execution_count": 113,
     "metadata": {},
     "output_type": "execute_result"
    }
   ],
   "source": [
    "X_train1"
   ]
  },
  {
   "cell_type": "code",
   "execution_count": 114,
   "metadata": {},
   "outputs": [],
   "source": [
    "pred_new=[]\n",
    "for i in range(10):\n",
    "    k=80.522*X_train1[i]+3.80\n",
    "    pred_new.append(k)"
   ]
  },
  {
   "cell_type": "code",
   "execution_count": null,
   "metadata": {},
   "outputs": [],
   "source": []
  },
  {
   "cell_type": "code",
   "execution_count": 115,
   "metadata": {},
   "outputs": [
    {
     "data": {
      "text/plain": [
       "[-237.76600000000002,\n",
       " -175.13777777777779,\n",
       " -112.50955555555556,\n",
       " -49.88133333333333,\n",
       " 12.746888888888893,\n",
       " 75.37511111111111,\n",
       " 138.0033333333334,\n",
       " 200.6315555555556,\n",
       " 263.2597777777778,\n",
       " 325.88800000000003]"
      ]
     },
     "execution_count": 115,
     "metadata": {},
     "output_type": "execute_result"
    }
   ],
   "source": [
    "pred_new"
   ]
  },
  {
   "cell_type": "code",
   "execution_count": 117,
   "metadata": {},
   "outputs": [
    {
     "data": {
      "text/plain": [
       "<matplotlib.collections.PathCollection at 0x227d8ff2c88>"
      ]
     },
     "execution_count": 117,
     "metadata": {},
     "output_type": "execute_result"
    },
    {
     "data": {
      "image/png": "[encoded data removed]",
      "text/plain": [
       "<Figure size 432x288 with 1 Axes>"
      ]
     },
     "metadata": {},
     "output_type": "display_data"
    }
   ],
   "source": [
    "plt.scatter(X_train,y_train)\n",
    "plt.scatter(X_train1,pred_new,color='orange')"
   ]
  },
  {
   "cell_type": "code",
   "execution_count": null,
   "metadata": {},
   "outputs": [],
   "source": []
  }
 ],
 "metadata": {
  "kernelspec": {
   "display_name": "Python 3",
   "language": "python",
   "name": "python3"
  },
  "language_info": {
   "codemirror_mode": {
    "name": "ipython",
    "version": 3
   },
   "file_extension": ".py",
   "mimetype": "text/x-python",
   "name": "python",
   "nbconvert_exporter": "python",
   "pygments_lexer": "ipython3",
   "version": "3.6.5"
  }
 },
 "nbformat": 4,
 "nbformat_minor": 2
}
